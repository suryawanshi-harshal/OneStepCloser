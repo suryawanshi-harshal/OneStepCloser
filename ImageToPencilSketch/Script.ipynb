{
 "cells": [
  {
   "cell_type": "markdown",
   "metadata": {},
   "source": [
    "## Instructions\n",
    "\n",
    "This data project has been used as an assignment during the LGM Data Science Virtual Internship.\n",
    "\n",
    "Assignment\n",
    "Select an image in RGB format and use the OpenCV Python library to transform it so that it resembles a pencil sketch.\n",
    "\n",
    "Tips\n",
    "\n",
    "Convert the RGB image to grayscale - this will turn the image into a classic black-and-white photo;\n",
    "Invert the grayscale image - this is sometimes referred to as a negative image and can be used to enhance details;\n",
    "Mix the grayscale image with the inverted blurry image - this can be done by dividing the pixel values of the grayscale image by the pixel values of the inverted blurry image; the result should resemble a pencil sketch;\n",
    "Experiment by applying other transformations offered by the OpenCV library to improve the effect;\n",
    "Data Description\n",
    "We are providing you with a sample image of a dog, however, you can choose any colored image you want to complete this project.\n",
    "\n",
    "Practicalities\n",
    "Make sure that the solution reflects your entire thought process - it is more important how the code is structured rather than the final files."
   ]
  },
  {
   "cell_type": "code",
   "execution_count": 2,
   "metadata": {},
   "outputs": [],
   "source": [
    "import cv2\n",
    "import numpy as np"
   ]
  },
  {
   "cell_type": "code",
   "execution_count": 3,
   "metadata": {},
   "outputs": [],
   "source": [
    "image_path = r'C:\\Users\\HarshalSuryawanshi\\OneDrive - Ternpoint Solutions LP\\Documents\\OneStepCloser\\Data\\ImagetoPencilSketch\\dog.jpg'\n",
    "image = cv2.imread(image_path)"
   ]
  },
  {
   "cell_type": "code",
   "execution_count": 4,
   "metadata": {},
   "outputs": [],
   "source": [
    "gray_image = cv2.cvtColor(image, cv2.COLOR_BGR2GRAY)\n",
    "inverted_image = cv2.bitwise_not(gray_image)\n",
    "blurred_image = cv2.GaussianBlur(inverted_image, (21, 21), sigmaX=0, sigmaY=0)\n",
    "inverted_blur = cv2.bitwise_not(blurred_image)\n",
    "sketch = cv2.divide(gray_image, inverted_blur, scale = 256.0)"
   ]
  },
  {
   "cell_type": "code",
   "execution_count": 5,
   "metadata": {},
   "outputs": [
    {
     "data": {
      "text/plain": [
       "True"
      ]
     },
     "execution_count": 5,
     "metadata": {},
     "output_type": "execute_result"
    }
   ],
   "source": [
    "cv2.imshow('original picture', image)\n",
    "cv2.imshow('Pencil Sketch', sketch)\n",
    "cv2.waitKey(0)\n",
    "cv2.destroyAllWindows()\n",
    "cv2.imwrite('Pencil_sketch.jpg', sketch)"
   ]
  },
  {
   "cell_type": "markdown",
   "metadata": {},
   "source": [
    "### Experimental enchancements"
   ]
  },
  {
   "cell_type": "code",
   "execution_count": 7,
   "metadata": {},
   "outputs": [],
   "source": [
    "edges = cv2.Canny(gray_image, threshold1=50, threshold2=150)\n",
    "\n",
    "\n",
    "sharpening_kernel = np.array([[-1, -1, -1],\n",
    "                              [-1, 9, -1],\n",
    "                              [-1, -1, -1]])\n",
    "\n",
    "\n",
    "sharpen_edges = cv2.filter2D(edges, -1, sharpening_kernel)\n",
    "\n",
    "refined_sketch = cv2.bitwise_and(sketch, sketch, mask=sharpen_edges)\n",
    "cv2.imshow('Refined Sketch', refined_sketch)\n",
    "cv2.waitKey(0)\n",
    "cv2.destroyAllWindows()"
   ]
  }
 ],
 "metadata": {
  "kernelspec": {
   "display_name": "Python 3",
   "language": "python",
   "name": "python3"
  },
  "language_info": {
   "codemirror_mode": {
    "name": "ipython",
    "version": 3
   },
   "file_extension": ".py",
   "mimetype": "text/x-python",
   "name": "python",
   "nbconvert_exporter": "python",
   "pygments_lexer": "ipython3",
   "version": "3.12.0"
  }
 },
 "nbformat": 4,
 "nbformat_minor": 2
}
